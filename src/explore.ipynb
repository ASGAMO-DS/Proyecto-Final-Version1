{
    "cells": [
        {
            "cell_type": "markdown",
            "metadata": {},
            "source": [
                "# Explore here"
            ]
        },
        {
            "cell_type": "code",
            "execution_count": 1,
            "metadata": {},
            "outputs": [
                {
                    "name": "stdout",
                    "output_type": "stream",
                    "text": [
                        "¡Archivo cargado correctamente! Dimensiones: (48052, 2)\n",
                        "\n",
                        "Primeras 5 filas:\n",
                        "                                        ComentarioEs sentimiento\n",
                        "0  Uno de los otros crÃ­ticos ha mencionado que d...    positivo\n",
                        "1  Una pequeÃ±a pequeÃ±a producciÃ³n.La tÃ©cnica ...    positivo\n",
                        "2  PensÃ© que esta era una manera maravillosa de ...    positivo\n",
                        "3  BÃ¡sicamente, hay una familia donde un niÃ±o p...    negativo\n",
                        "4  El \"\"\"\"amor en el tiempo\"\"\"\" de Petter Mattei ...    positivo\n",
                        "\n",
                        "Resumen estadístico:\n",
                        "                                             ComentarioEs sentimiento\n",
                        "count                                               48051       48051\n",
                        "unique                                              48051           2\n",
                        "top     Nadie espera que las pelÃ­culas de Star Trek s...    negativo\n",
                        "freq                                                    1       24041\n"
                    ]
                }
            ],
            "source": [
                "import pandas as pd\n",
                "\n",
                "# Configuración\n",
                "file_id = '1e_DPPpXy0zddc0A1ARU4fx1hO_ZHc1Tn'\n",
                "url = f'https://drive.google.com/uc?id={file_id}&export=download'\n",
                "\n",
                "# Carga el DataFrame con parámetros para mejor manejo de datos\n",
                "try:\n",
                "    df = pd.read_csv(url)\n",
                "    \n",
                "    # Verificación básica\n",
                "    print(f\"¡Archivo cargado correctamente! Dimensiones: {df.shape}\")\n",
                "    print(\"\\nPrimeras 5 filas:\")\n",
                "    print(df.head())\n",
                "    \n",
                "    print(\"\\nResumen estadístico:\")\n",
                "    print(df.describe())\n",
                "    \n",
                "except Exception as e:\n",
                "    print(f\"Error al cargar el archivo: {e}\")\n",
                "    print(\"\\nSolución alternativa:\")\n",
                "    print(\"1. Verifica que el archivo esté compartido como 'Cualquier persona con el enlace'\")\n",
                "    print(\"2. Si el archivo es muy grande, usa: df = pd.read_csv(url, chunksize=10000)\")"
            ]
        },
        {
            "cell_type": "code",
            "execution_count": 2,
            "metadata": {},
            "outputs": [
                {
                    "data": {
                        "text/html": [
                            "<div>\n",
                            "<style scoped>\n",
                            "    .dataframe tbody tr th:only-of-type {\n",
                            "        vertical-align: middle;\n",
                            "    }\n",
                            "\n",
                            "    .dataframe tbody tr th {\n",
                            "        vertical-align: top;\n",
                            "    }\n",
                            "\n",
                            "    .dataframe thead th {\n",
                            "        text-align: right;\n",
                            "    }\n",
                            "</style>\n",
                            "<table border=\"1\" class=\"dataframe\">\n",
                            "  <thead>\n",
                            "    <tr style=\"text-align: right;\">\n",
                            "      <th></th>\n",
                            "      <th>ComentarioEs</th>\n",
                            "      <th>sentimiento</th>\n",
                            "    </tr>\n",
                            "  </thead>\n",
                            "  <tbody>\n",
                            "    <tr>\n",
                            "      <th>0</th>\n",
                            "      <td>Uno de los otros crÃ­ticos ha mencionado que d...</td>\n",
                            "      <td>positivo</td>\n",
                            "    </tr>\n",
                            "    <tr>\n",
                            "      <th>1</th>\n",
                            "      <td>Una pequeÃ±a pequeÃ±a producciÃ³n.La tÃ©cnica ...</td>\n",
                            "      <td>positivo</td>\n",
                            "    </tr>\n",
                            "    <tr>\n",
                            "      <th>2</th>\n",
                            "      <td>PensÃ© que esta era una manera maravillosa de ...</td>\n",
                            "      <td>positivo</td>\n",
                            "    </tr>\n",
                            "    <tr>\n",
                            "      <th>3</th>\n",
                            "      <td>BÃ¡sicamente, hay una familia donde un niÃ±o p...</td>\n",
                            "      <td>negativo</td>\n",
                            "    </tr>\n",
                            "    <tr>\n",
                            "      <th>4</th>\n",
                            "      <td>El \"\"\"\"amor en el tiempo\"\"\"\" de Petter Mattei ...</td>\n",
                            "      <td>positivo</td>\n",
                            "    </tr>\n",
                            "    <tr>\n",
                            "      <th>...</th>\n",
                            "      <td>...</td>\n",
                            "      <td>...</td>\n",
                            "    </tr>\n",
                            "    <tr>\n",
                            "      <th>48047</th>\n",
                            "      <td>PensÃ© que esta pelÃ­cula hizo un buen trabajo...</td>\n",
                            "      <td>positivo</td>\n",
                            "    </tr>\n",
                            "    <tr>\n",
                            "      <th>48048</th>\n",
                            "      <td>Mala parcela, mal diÃ¡logo, mala actuaciÃ³n, d...</td>\n",
                            "      <td>negativo</td>\n",
                            "    </tr>\n",
                            "    <tr>\n",
                            "      <th>48049</th>\n",
                            "      <td>Soy catÃ³lica enseÃ±ada en escuelas primarias ...</td>\n",
                            "      <td>negativo</td>\n",
                            "    </tr>\n",
                            "    <tr>\n",
                            "      <th>48050</th>\n",
                            "      <td>Voy a tener que estar en desacuerdo con el com...</td>\n",
                            "      <td>negativo</td>\n",
                            "    </tr>\n",
                            "    <tr>\n",
                            "      <th>48051</th>\n",
                            "      <td>Nadie espera que las pelÃ­culas de Star Trek s...</td>\n",
                            "      <td>negativo</td>\n",
                            "    </tr>\n",
                            "  </tbody>\n",
                            "</table>\n",
                            "<p>48052 rows × 2 columns</p>\n",
                            "</div>"
                        ],
                        "text/plain": [
                            "                                            ComentarioEs sentimiento\n",
                            "0      Uno de los otros crÃ­ticos ha mencionado que d...    positivo\n",
                            "1      Una pequeÃ±a pequeÃ±a producciÃ³n.La tÃ©cnica ...    positivo\n",
                            "2      PensÃ© que esta era una manera maravillosa de ...    positivo\n",
                            "3      BÃ¡sicamente, hay una familia donde un niÃ±o p...    negativo\n",
                            "4      El \"\"\"\"amor en el tiempo\"\"\"\" de Petter Mattei ...    positivo\n",
                            "...                                                  ...         ...\n",
                            "48047  PensÃ© que esta pelÃ­cula hizo un buen trabajo...    positivo\n",
                            "48048  Mala parcela, mal diÃ¡logo, mala actuaciÃ³n, d...    negativo\n",
                            "48049  Soy catÃ³lica enseÃ±ada en escuelas primarias ...    negativo\n",
                            "48050  Voy a tener que estar en desacuerdo con el com...    negativo\n",
                            "48051  Nadie espera que las pelÃ­culas de Star Trek s...    negativo\n",
                            "\n",
                            "[48052 rows x 2 columns]"
                        ]
                    },
                    "execution_count": 2,
                    "metadata": {},
                    "output_type": "execute_result"
                }
            ],
            "source": [
                "df"
            ]
        }
    ],
    "metadata": {
        "kernelspec": {
            "display_name": "Python 3",
            "language": "python",
            "name": "python3"
        },
        "language_info": {
            "codemirror_mode": {
                "name": "ipython",
                "version": 3
            },
            "file_extension": ".py",
            "mimetype": "text/x-python",
            "name": "python",
            "nbconvert_exporter": "python",
            "pygments_lexer": "ipython3",
            "version": "3.11.4"
        },
        "orig_nbformat": 4
    },
    "nbformat": 4,
    "nbformat_minor": 2
}
